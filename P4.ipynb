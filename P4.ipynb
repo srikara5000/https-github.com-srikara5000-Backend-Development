{
 "cells": [
  {
   "cell_type": "code",
   "execution_count": 1,
   "metadata": {},
   "outputs": [
    {
     "name": "stdout",
     "output_type": "stream",
     "text": [
      "Important factors affecting ratings:\n",
      "Factor 1: [0.45922727 0.36518135 0.30109198 0.54859021 0.51395068]\n",
      "Factor 2: [-0.55158596 -0.41231307  0.67355667  0.21091554  0.16609308]\n",
      "\n",
      "Reconstructed ratings matrix:\n",
      "[[ 4.57177777  3.53502083 -0.95622707  2.1392875   2.12453123]\n",
      " [ 3.60005087  2.84160196  1.52676599  3.60015792  3.39820309]\n",
      " [-0.19069896 -0.02771994  4.75049211  3.86888449  3.47621394]\n",
      " [ 0.60562717  0.49855717  1.06422405  1.28405193  1.18266984]]\n"
     ]
    }
   ],
   "source": [
    "import numpy as np\n",
    "from scipy.linalg import svd\n",
    "\n",
    "ratings_data = np.array([\n",
    "    [5, 4, 0, 2, 1],\n",
    "    [3, 2, 0, 4, 5],\n",
    "    [0, 0, 5, 4, 3],\n",
    "    [1, 2, 3, 0, 0]\n",
    "])\n",
    "\n",
    "U, sigma, VT = svd(ratings_data)\n",
    "\n",
    "num_factors_to_keep = 2\n",
    "important_factors = VT[:num_factors_to_keep]\n",
    "\n",
    "print(\"Important factors affecting ratings:\")\n",
    "for i, factor in enumerate(important_factors):\n",
    "    print(f\"Factor {i+1}: {factor}\")\n",
    "\n",
    "reconstructed_ratings = np.dot(np.dot(U[:, :num_factors_to_keep], np.diag(sigma[:num_factors_to_keep])), VT[:num_factors_to_keep])\n",
    "\n",
    "print(\"\\nReconstructed ratings matrix:\")\n",
    "print(reconstructed_ratings)"
   ]
  }
 ],
 "metadata": {
  "kernelspec": {
   "display_name": "Python 3",
   "language": "python",
   "name": "python3"
  },
  "language_info": {
   "codemirror_mode": {
    "name": "ipython",
    "version": 3
   },
   "file_extension": ".py",
   "mimetype": "text/x-python",
   "name": "python",
   "nbconvert_exporter": "python",
   "pygments_lexer": "ipython3",
   "version": "3.8.5"
  }
 },
 "nbformat": 4,
 "nbformat_minor": 4
}
